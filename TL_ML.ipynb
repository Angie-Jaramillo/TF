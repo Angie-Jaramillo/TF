{
  "nbformat": 4,
  "nbformat_minor": 0,
  "metadata": {
    "colab": {
      "provenance": [],
      "include_colab_link": true
    },
    "kernelspec": {
      "name": "python3",
      "display_name": "Python 3"
    },
    "language_info": {
      "name": "python"
    }
  },
  "cells": [
    {
      "cell_type": "markdown",
      "metadata": {
        "id": "view-in-github",
        "colab_type": "text"
      },
      "source": [
        "<a href=\"https://colab.research.google.com/github/Angie-Jaramillo/TF/blob/main/TL_ML.ipynb\" target=\"_parent\"><img src=\"https://colab.research.google.com/assets/colab-badge.svg\" alt=\"Open In Colab\"/></a>"
      ]
    },
    {
      "cell_type": "markdown",
      "source": [
        "# TRANSFER LEARNING\n",
        "------"
      ],
      "metadata": {
        "id": "GBJM-sJBbHyU"
      }
    },
    {
      "cell_type": "markdown",
      "source": [
        "##¿Qué es?"
      ],
      "metadata": {
        "id": "C14ogDWkbdX2"
      }
    },
    {
      "cell_type": "markdown",
      "source": [
        "Es una técnica de Machine Learning la cual cosiste en transferir el apredizaje de un mdelo a una nueva tarea; por loq ue implica ajustar un modelo pre-entrenado a un nuevo objetivo."
      ],
      "metadata": {
        "id": "MTRXfQKScejR"
      }
    },
    {
      "cell_type": "markdown",
      "source": [
        "##¿Cómo funciona?"
      ],
      "metadata": {
        "id": "p6-Pa4eecHWi"
      }
    },
    {
      "cell_type": "markdown",
      "source": [
        "Se parte de un modelo ya entrenado, el cual haya extraído las carcaterísticas del problema original; posteriormente, se procede con ajustar el modelo, este ajuste puede ser realizar congelando una parte del modelo pre-entrenado y agregando capas las cuales serán entrenadas con los datos nuevos, o ajustar todos los pesos de la arquitectura con los datos proporcionados por la nueva tarea."
      ],
      "metadata": {
        "id": "QGe7AJ4Rcj_T"
      }
    },
    {
      "cell_type": "markdown",
      "source": [
        "##Tipos y aplicaciones"
      ],
      "metadata": {
        "id": "DL_KH6juc5JI"
      }
    },
    {
      "cell_type": "markdown",
      "source": [
        "- Inductiva : La tarea de origen es diferente a la tarea de destino; sin embargo los datos son los mismos o muy similares.\n",
        "-Transductiva : La tarea de origen es igual a la tarea destino, no obstante, los datos de la nueva tarea son diferentes a los originales.\n",
        "- No sipervisada: No hay etiquetas en los datos con los cuales se entrena la arquitectura, esta estrategia se hace principalmente con el objetivo de identificar patrones en los datos."
      ],
      "metadata": {
        "id": "kvuopvJ5c-Wn"
      }
    },
    {
      "cell_type": "markdown",
      "source": [
        "#ARQUITECTURAS"
      ],
      "metadata": {
        "id": "wFIzE4RBc_g0"
      }
    },
    {
      "cell_type": "markdown",
      "source": [
        "Debido a la versatilidad de esta técnica y a que su objetivo consiste en reutilizar y adapatar el modelo pre-entrenado, existen diferentes esttructuras y diseños de una red neuronal. Entre los cuales están las arquitecturas de clasificación de datos, detección de objetos y segmentación."
      ],
      "metadata": {
        "id": "V-WtDD9alneo"
      }
    },
    {
      "cell_type": "markdown",
      "source": [
        "##Clasificación\n"
      ],
      "metadata": {
        "id": "w1PD-vIsdXvE"
      }
    },
    {
      "cell_type": "markdown",
      "source": [
        "\n",
        "\n",
        "*   Breve descripción de las arquitecturas existentes y elección de una para mostrar en código:\n",
        "- ResNet (ResNet50, ResNet34, etc.).//\n",
        "Red neuronal convolcional con 50 capas de profundidad\n",
        "- VGG (VGG16, VGG19)\n",
        "- .Inception.\n",
        "- EfficientNet (EFNB0, EFNB7).\n",
        "- MobileNet (MNV2, MNV3).\n",
        "\n"
      ],
      "metadata": {
        "id": "I227mwyTdMJq"
      }
    },
    {
      "cell_type": "markdown",
      "source": [
        "##Detección de objetos"
      ],
      "metadata": {
        "id": "vEDt-qC4dRWi"
      }
    },
    {
      "cell_type": "markdown",
      "source": [
        "- YOLO (YOLOv3, YOLOv4, YOLOv5, YOLOv7, YOLOv8).\n",
        "- RetinaNet.\n",
        "- DETR (DEtection TRansformer).\n",
        "- Swin Transformer for Object Detection."
      ],
      "metadata": {
        "id": "5n3O53SUdhgj"
      }
    },
    {
      "cell_type": "markdown",
      "source": [
        "##Segmentación"
      ],
      "metadata": {
        "id": "mcnm4JXRdo8D"
      }
    },
    {
      "cell_type": "markdown",
      "source": [
        "- SAM (Segment Anything).\n",
        "- U-Net.\n",
        "- nnUNet (especializado en análisis médico).\n",
        "- DeepLab.\n",
        "- SETR (Segmenter with Transformers).\n",
        "- YOLO Segment."
      ],
      "metadata": {
        "id": "-xMXe39_dse_"
      }
    }
  ]
}